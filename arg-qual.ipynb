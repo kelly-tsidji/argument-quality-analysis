{
 "cells": [
  {
   "cell_type": "code",
   "execution_count": 1,
   "metadata": {},
   "outputs": [
    {
     "name": "stdout",
     "output_type": "stream",
     "text": [
      "                                            argument  \\\n",
      "0  \"marriage\" isn't keeping up with the times.  a...   \n",
      "1  .a multi-party system would be too confusing a...   \n",
      "2  \\ero-tolerance policy in schools should not be...   \n",
      "3  `people reach their limit when it comes to the...   \n",
      "4  100% agree, should they do that, it would be a...   \n",
      "\n",
      "                                               topic    set        WA  \\\n",
      "0                         We should abandon marriage  train  0.846165   \n",
      "1               We should adopt a multi-party system  train  0.891271   \n",
      "2  We should adopt a zero-tolerance policy in sch...    dev  0.721192   \n",
      "3      Assisted suicide should be a criminal offence  train  0.730395   \n",
      "4                      We should abolish safe spaces  train  0.236686   \n",
      "\n",
      "     MACE-P  stance_WA  stance_WA_conf  \n",
      "0  0.297659          1        1.000000  \n",
      "1  0.726133         -1        1.000000  \n",
      "2  0.396953         -1        1.000000  \n",
      "3  0.225212         -1        1.000000  \n",
      "4  0.004104          1        0.805517  \n"
     ]
    }
   ],
   "source": [
    "import pandas as pd\n",
    "import matplotlib.pyplot as plt\n",
    "\n",
    "df = pd.read_csv('arg_quality_rank_30k.csv')\n",
    "\n",
    "# Display the first few rows of the DataFrame\n",
    "print(df.head())\n"
   ]
  },
  {
   "cell_type": "code",
   "execution_count": 3,
   "metadata": {},
   "outputs": [
    {
     "name": "stdout",
     "output_type": "stream",
     "text": [
      "argument           object\n",
      "topic              object\n",
      "set                object\n",
      "WA                float64\n",
      "MACE-P            float64\n",
      "stance_WA           int64\n",
      "stance_WA_conf    float64\n",
      "dtype: object\n"
     ]
    }
   ],
   "source": [
    "# Check data types\n",
    "print(df.dtypes)"
   ]
  }
 ],
 "metadata": {
  "kernelspec": {
   "display_name": "Python 3",
   "language": "python",
   "name": "python3"
  },
  "language_info": {
   "codemirror_mode": {
    "name": "ipython",
    "version": 3
   },
   "file_extension": ".py",
   "mimetype": "text/x-python",
   "name": "python",
   "nbconvert_exporter": "python",
   "pygments_lexer": "ipython3",
   "version": "3.10.12"
  }
 },
 "nbformat": 4,
 "nbformat_minor": 2
}
